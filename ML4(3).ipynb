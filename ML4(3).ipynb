{
  "nbformat": 4,
  "nbformat_minor": 0,
  "metadata": {
    "colab": {
      "provenance": []
    },
    "kernelspec": {
      "name": "python3",
      "display_name": "Python 3"
    },
    "language_info": {
      "name": "python"
    }
  },
  "cells": [
    {
      "cell_type": "code",
      "metadata": {
        "colab": {
          "base_uri": "https://localhost:8080/"
        },
        "id": "6ade4ba6",
        "outputId": "21c511d8-2b7f-4eff-b395-c6753d0900ad"
      },
      "source": [
        "import pandas as pd\n",
        "\n",
        "# Load the datasets\n",
        "try:\n",
        "    housing_df = pd.read_csv('/content/housing.csv')\n",
        "    advertising_df = pd.read_csv('/content/advertising.csv')\n",
        "    faa_ai_prelim_df = pd.read_csv('/content/faa_ai_prelim.csv')\n",
        "    print(\"Datasets loaded successfully.\")\n",
        "except FileNotFoundError:\n",
        "    print(\"Make sure the datasets are in the correct directory.\")"
      ],
      "execution_count": null,
      "outputs": [
        {
          "output_type": "stream",
          "name": "stdout",
          "text": [
            "Datasets loaded successfully.\n"
          ]
        }
      ]
    },
    {
      "cell_type": "code",
      "metadata": {
        "id": "d0869ca9"
      },
      "source": [
        "import numpy as np\n",
        "\n",
        "def calculate_entropy(data):# data -> column\n",
        "    \"\"\"\n",
        "    Calculates the entropy of a given pandas Series.\n",
        "    \"\"\"\n",
        "    if data.isnull().all():\n",
        "        return 0.0  # Handle cases with all NaN values\n",
        "\n",
        "    value_counts = data.value_counts(normalize=True)\n",
        "    entropy = -np.sum(value_counts * np.log2(value_counts + 1e-9))  # Add epsilon to avoid log(0)\n",
        "    return entropy"
      ],
      "execution_count": null,
      "outputs": []
    },
    {
      "cell_type": "code",
      "metadata": {
        "id": "c548bc78"
      },
      "source": [
        "# Identify continuous and categorical columns\n",
        "def identify_column_types(df):\n",
        "    continuous_cols = df.select_dtypes(include=np.number).columns.tolist()\n",
        "    categorical_cols = df.select_dtypes(include='object').columns.tolist()\n",
        "    return continuous_cols, categorical_cols\n",
        "\n",
        "# Calculate entropy for each column\n",
        "entropy_results = {}\n",
        "\n",
        "for df_name, df in zip(['housing', 'advertising', 'faa_ai_prelim'], [housing_df, advertising_df, faa_ai_prelim_df]):\n",
        "    entropy_results[df_name] = {}\n",
        "    continuous_cols, categorical_cols = identify_column_types(df)\n",
        "\n",
        "    for col in categorical_cols:\n",
        "        entropy_results[df_name][col] = calculate_entropy(df[col])\n",
        "\n",
        "    for col in continuous_cols:\n",
        "        # Bin continuous data (using quantiles for simplicity)\n",
        "        if not df[col].isnull().all():\n",
        "            try:\n",
        "                binned_data = pd.qcut(df[col], q=10, labels=False, duplicates='drop')\n",
        "                entropy_results[df_name][col] = calculate_entropy(binned_data)\n",
        "            except ValueError:\n",
        "                # Handle cases where quantiles cannot be computed (e.g., all values are the same)\n",
        "                entropy_results[df_name][col] = 0.0 # Set entropy to 0 if binning is not possible\n",
        "        else:\n",
        "            entropy_results[df_name][col] = 0.0 # Handle columns with all NaN values"
      ],
      "execution_count": null,
      "outputs": []
    },
    {
      "cell_type": "code",
      "metadata": {
        "colab": {
          "base_uri": "https://localhost:8080/"
        },
        "id": "5bc77dc5",
        "outputId": "4f42e495-1a56-49cb-f83f-3fb94c33c57b"
      },
      "source": [
        "# Present results\n",
        "for df_name, results in entropy_results.items():\n",
        "    print(f\"Entropy results for {df_name} dataset:\")\n",
        "    for col, entropy in results.items():\n",
        "        print(f\"  {col}: {entropy:.4f}\")\n",
        "    print(\"-\" * 30)"
      ],
      "execution_count": null,
      "outputs": [
        {
          "output_type": "stream",
          "name": "stdout",
          "text": [
            "Entropy results for housing dataset:\n",
            "  mainroad: 0.5876\n",
            "  guestroom: 0.6756\n",
            "  basement: 0.9345\n",
            "  hotwaterheating: 0.2686\n",
            "  airconditioning: 0.8995\n",
            "  prefarea: 0.7864\n",
            "  furnishingstatus: 1.5573\n",
            "  price: 3.3202\n",
            "  area: 3.3153\n",
            "  bedrooms: 1.5364\n",
            "  bathrooms: 0.1425\n",
            "  stories: 0.7485\n",
            "  parking: 0.8638\n",
            "------------------------------\n",
            "Entropy results for advertising dataset:\n",
            "  TV: 3.3219\n",
            "  Radio: 3.3212\n",
            "  Newspaper: 3.3219\n",
            "  Sales: 3.3205\n",
            "------------------------------\n",
            "Entropy results for faa_ai_prelim dataset:\n",
            "  UPDATED: 0.2243\n",
            "  ENTRY_DATE: 2.7897\n",
            "  EVENT_LCL_DATE: 3.8502\n",
            "  EVENT_LCL_TIME: 6.1973\n",
            "  LOC_CITY_NAME: 6.2787\n",
            "  LOC_STATE_NAME: 4.3330\n",
            "  LOC_CNTRY_NAME: -0.0000\n",
            "  RMK_TEXT: 6.3268\n",
            "  EVENT_TYPE_DESC: 0.9101\n",
            "  FSDO_DESC: 5.2054\n",
            "  REGIST_NBR: 6.3750\n",
            "  FLT_NBR: 2.5850\n",
            "  ACFT_OPRTR: 2.5216\n",
            "  ACFT_MAKE_NAME: 3.8938\n",
            "  ACFT_MODEL_NAME: 5.5629\n",
            "  ACFT_DMG_DESC: 1.8199\n",
            "  FLT_ACTIVITY: 2.0382\n",
            "  FLT_PHASE: 1.8600\n",
            "  MAX_INJ_LVL: 1.8474\n",
            "  FATAL_FLAG: -0.0000\n",
            "  ACFT_MISSING_FLAG: 0.0000\n",
            "  FAR_PART: 0.0000\n",
            "  FLT_CRW_INJ_NONE: 0.1161\n",
            "  FLT_CRW_INJ_MINOR: 0.9183\n",
            "  FLT_CRW_INJ_SERIOUS: 0.0000\n",
            "  FLT_CRW_INJ_FATAL: 1.0000\n",
            "  FLT_CRW_INJ_UNK: 0.0000\n",
            "  CBN_CRW_INJ_NONE: 0.0000\n",
            "  CBN_CRW_INJ_MINOR: 0.0000\n",
            "  CBN_CRW_INJ_SERIOUS: 0.0000\n",
            "  CBN_CRW_INJ_FATAL: 0.0000\n",
            "  CBN_CRW_INJ_UNK: 0.0000\n",
            "  PAX_INJ_NONE: 0.5226\n",
            "  PAX_INJ_MINOR: 0.0000\n",
            "  PAX_INJ_SERIOUS: 0.0000\n",
            "  PAX_INJ_FATAL: 0.0000\n",
            "  PAX_INJ_UNK: 0.0000\n",
            "  GRND_INJ_NONE: 0.0000\n",
            "  GRND_INJ_MINOR: 0.0000\n",
            "  GRND_INJ_SERIOUS: 0.0000\n",
            "  GRND_INJ_FATAL: 0.0000\n",
            "  GRND_INJ_UNK: 0.0000\n",
            "------------------------------\n"
          ]
        }
      ]
    }
  ]
}