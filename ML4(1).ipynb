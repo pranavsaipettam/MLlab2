{
  "nbformat": 4,
  "nbformat_minor": 0,
  "metadata": {
    "colab": {
      "provenance": []
    },
    "kernelspec": {
      "name": "python3",
      "display_name": "Python 3"
    },
    "language_info": {
      "name": "python"
    }
  },
  "cells": [
    {
      "cell_type": "markdown",
      "metadata": {
        "id": "09d38b79"
      },
      "source": [
        "# Task\n",
        "Simulate rolling a die a variable number of times (from 1 to 50) and repeating each simulation 100, 500, 1000, 5000, 10000, 50000, and 100000 times. For each combination of die rolls and repetitions, calculate the sum of the rolls (excluding the case of a single die roll), plot and save a histogram of the sums, and calculate the mean and variance of the sums."
      ]
    },
    {
      "cell_type": "markdown",
      "metadata": {
        "id": "a8179c62"
      },
      "source": [
        "## Define parameters\n",
        "\n",
        "### Subtask:\n",
        "Define the range of die rolls (1 to 50) and the number of experiments for each die roll count (100, 500, 1000, 5000, 10000, 50000, and 100000).\n"
      ]
    },
    {
      "cell_type": "markdown",
      "metadata": {
        "id": "8ba2dc00"
      },
      "source": [
        "**Reasoning**:\n",
        "Define the range of die rolls and the list of experiment counts as specified in the instructions.\n",
        "\n"
      ]
    },
    {
      "cell_type": "code",
      "metadata": {
        "id": "86d13448"
      },
      "source": [
        "num_die_rolls = range(1, 51)\n",
        "num_experiments = [100, 500, 1000, 5000, 10000, 50000, 100000]"
      ],
      "execution_count": null,
      "outputs": []
    },
    {
      "cell_type": "markdown",
      "metadata": {
        "id": "dabf1c56"
      },
      "source": [
        "## Simulation function\n",
        "\n",
        "### Subtask:\n",
        "Create a function that simulates rolling a die a specified number of times and returns the sum.\n"
      ]
    },
    {
      "cell_type": "markdown",
      "metadata": {
        "id": "0b64535e"
      },
      "source": [
        "**Reasoning**:\n",
        "Define the function `simulate_die_rolls` to simulate rolling a die a specified number of times and return the sum.\n",
        "\n"
      ]
    },
    {
      "cell_type": "code",
      "metadata": {
        "id": "cda637e0"
      },
      "source": [
        "import random\n",
        "\n",
        "def simulate_die_rolls(num_rolls):\n",
        "  \"\"\"Simulates rolling a die a specified number of times and returns the sum.\n",
        "\n",
        "  Args:\n",
        "    num_rolls: The number of times to roll the die.\n",
        "\n",
        "  Returns:\n",
        "    The sum of the simulated die rolls.\n",
        "  \"\"\"\n",
        "  total_sum = 0\n",
        "  for _ in range(num_rolls):\n",
        "    total_sum += random.randint(1, 6)\n",
        "  return total_sum"
      ],
      "execution_count": null,
      "outputs": []
    },
    {
      "cell_type": "markdown",
      "metadata": {
        "id": "4b0b8a0e"
      },
      "source": [
        "## Run experiments\n",
        "\n",
        "### Subtask:\n",
        "Iterate through the range of die rolls and the number of experiments, calling the simulation function and storing the sums.\n"
      ]
    },
    {
      "cell_type": "markdown",
      "metadata": {
        "id": "4cef3da3"
      },
      "source": [
        "**Reasoning**:\n",
        "Initialize a dictionary to store the simulation results and then iterate through the specified ranges of die rolls and experiments, calling the simulation function and storing the sums in the dictionary.\n",
        "\n"
      ]
    },
    {
      "cell_type": "code",
      "metadata": {
        "id": "a5f4098e"
      },
      "source": [
        "simulation_results = {}\n",
        "\n",
        "for rolls in num_die_rolls:\n",
        "    simulation_results[rolls] = {}\n",
        "    for experiments in num_experiments:\n",
        "        sums = []\n",
        "        for _ in range(experiments):\n",
        "            sums.append(simulate_die_rolls(rolls))\n",
        "        simulation_results[rolls][experiments] = sums"
      ],
      "execution_count": null,
      "outputs": []
    },
    {
      "cell_type": "markdown",
      "metadata": {
        "id": "b61e45c1"
      },
      "source": [
        "## Calculate mean and variance\n",
        "\n",
        "### Subtask:\n",
        "For each set of sums (corresponding to a specific number of die rolls and experiments), calculate the mean and variance.\n"
      ]
    },
    {
      "cell_type": "markdown",
      "metadata": {
        "id": "176465d9"
      },
      "source": [
        "**Reasoning**:\n",
        "Import the numpy library and iterate through the simulation results to calculate the mean and variance for each set of sums, storing the results in a new dictionary.\n",
        "\n"
      ]
    },
    {
      "cell_type": "code",
      "metadata": {
        "id": "563ed0ab"
      },
      "source": [
        "import numpy as np\n",
        "\n",
        "analysis_results = {}\n",
        "\n",
        "for rolls, experiments_data in simulation_results.items():\n",
        "    analysis_results[rolls] = {}\n",
        "    for experiments, sums in experiments_data.items():\n",
        "        # Exclude the case of a single die roll when calculating the sum\n",
        "        if rolls > 1:\n",
        "            mean_sum = np.mean(sums)\n",
        "            variance_sum = np.var(sums)\n",
        "            analysis_results[rolls][experiments] = {'mean': mean_sum, 'variance': variance_sum}\n",
        "        else:\n",
        "             analysis_results[rolls][experiments] = {'mean': None, 'variance': None} # Or handle appropriately for rolls = 1"
      ],
      "execution_count": null,
      "outputs": []
    },
    {
      "cell_type": "markdown",
      "metadata": {
        "id": "bf0ee4e3"
      },
      "source": [
        "## Plot histograms\n",
        "\n",
        "### Subtask:\n",
        "For each set of sums, plot a histogram and save it. There will be 6 histograms for each number of die rolls (1 to 50), resulting in a total of 50 * 6 = 300 histograms.\n"
      ]
    },
    {
      "cell_type": "markdown",
      "metadata": {
        "id": "c0020b9d"
      },
      "source": [
        "**Reasoning**:\n",
        "Iterate through the simulation results, plot histograms for sums when the number of rolls is greater than 1, add titles and labels, save the plots, and close them.\n",
        "\n"
      ]
    },
    {
      "cell_type": "code",
      "metadata": {
        "id": "5cdb22da"
      },
      "source": [
        "import matplotlib.pyplot as plt\n",
        "\n",
        "for rolls, experiments_data in simulation_results.items():\n",
        "    for experiments, sums in experiments_data.items():\n",
        "        if rolls > 1:\n",
        "            plt.figure(figsize=(10, 6))\n",
        "            plt.hist(sums, bins='auto', edgecolor='black')\n",
        "            plt.title(f\"Histogram of Sums for {rolls} Die Rolls ({experiments} Experiments)\")\n",
        "            plt.xlabel(\"Sum of Die Rolls\")\n",
        "            plt.ylabel(\"Frequency\")\n",
        "            plt.savefig(f\"histogram_rolls_{rolls}_experiments_{experiments}.png\")\n",
        "            plt.close()"
      ],
      "execution_count": null,
      "outputs": []
    },
    {
      "cell_type": "markdown",
      "metadata": {
        "id": "bb7c4169"
      },
      "source": [
        "## Organize results\n",
        "\n",
        "### Subtask:\n",
        "Store the calculated means and variances in a structured format (e.g., a dictionary or DataFrame) for easy access and analysis.\n"
      ]
    },
    {
      "cell_type": "markdown",
      "metadata": {
        "id": "7a96afd4"
      },
      "source": [
        "**Reasoning**:\n",
        "Create a pandas DataFrame from the analysis_results dictionary and then restructure it to have separate columns for mean and variance for easier analysis.\n",
        "\n"
      ]
    },
    {
      "cell_type": "code",
      "metadata": {
        "colab": {
          "base_uri": "https://localhost:8080/",
          "height": 394
        },
        "id": "817cd4f0",
        "outputId": "82115caa-9a88-442e-8e88-012b4c3be88f"
      },
      "source": [
        "import pandas as pd\n",
        "\n",
        "# Create a DataFrame from the analysis_results dictionary\n",
        "analysis_df = pd.DataFrame.from_dict(analysis_results, orient='index')\n",
        "\n",
        "# Restructure the DataFrame\n",
        "# Stack the experiments columns to long format\n",
        "analysis_df_stacked = analysis_df.stack().reset_index()\n",
        "analysis_df_stacked.columns = ['num_rolls', 'num_experiments', 'metrics']\n",
        "\n",
        "# Expand the metrics dictionary into separate columns\n",
        "analysis_df_restructured = pd.json_normalize(analysis_df_stacked['metrics']).set_index(analysis_df_stacked['num_rolls'])\n",
        "analysis_df_restructured['num_experiments'] = analysis_df_stacked['num_experiments'].values\n",
        "\n",
        "# Reorder columns\n",
        "analysis_df_restructured = analysis_df_restructured[['num_experiments', 'mean', 'variance']]\n",
        "\n",
        "display(analysis_df_restructured.sample(10))"
      ],
      "execution_count": null,
      "outputs": [
        {
          "output_type": "display_data",
          "data": {
            "text/plain": [
              "           num_experiments      mean    variance\n",
              "num_rolls                                       \n",
              "41                   10000  143.4440  119.375664\n",
              "9                     5000   31.5660   25.695644\n",
              "32                    5000  112.1162   94.850298\n",
              "5                    10000   17.5388   14.516495\n",
              "10                   10000   34.9658   29.731030\n",
              "20                     100   70.8300   63.161100\n",
              "26                   50000   91.0106   75.084888\n",
              "29                     500  102.1640   91.297104\n",
              "13                    5000   45.5278   37.968027\n",
              "16                    5000   55.9946   47.028571"
            ],
            "text/html": [
              "\n",
              "  <div id=\"df-13ee113e-0404-4435-8ffa-12c802da3308\" class=\"colab-df-container\">\n",
              "    <div>\n",
              "<style scoped>\n",
              "    .dataframe tbody tr th:only-of-type {\n",
              "        vertical-align: middle;\n",
              "    }\n",
              "\n",
              "    .dataframe tbody tr th {\n",
              "        vertical-align: top;\n",
              "    }\n",
              "\n",
              "    .dataframe thead th {\n",
              "        text-align: right;\n",
              "    }\n",
              "</style>\n",
              "<table border=\"1\" class=\"dataframe\">\n",
              "  <thead>\n",
              "    <tr style=\"text-align: right;\">\n",
              "      <th></th>\n",
              "      <th>num_experiments</th>\n",
              "      <th>mean</th>\n",
              "      <th>variance</th>\n",
              "    </tr>\n",
              "    <tr>\n",
              "      <th>num_rolls</th>\n",
              "      <th></th>\n",
              "      <th></th>\n",
              "      <th></th>\n",
              "    </tr>\n",
              "  </thead>\n",
              "  <tbody>\n",
              "    <tr>\n",
              "      <th>41</th>\n",
              "      <td>10000</td>\n",
              "      <td>143.4440</td>\n",
              "      <td>119.375664</td>\n",
              "    </tr>\n",
              "    <tr>\n",
              "      <th>9</th>\n",
              "      <td>5000</td>\n",
              "      <td>31.5660</td>\n",
              "      <td>25.695644</td>\n",
              "    </tr>\n",
              "    <tr>\n",
              "      <th>32</th>\n",
              "      <td>5000</td>\n",
              "      <td>112.1162</td>\n",
              "      <td>94.850298</td>\n",
              "    </tr>\n",
              "    <tr>\n",
              "      <th>5</th>\n",
              "      <td>10000</td>\n",
              "      <td>17.5388</td>\n",
              "      <td>14.516495</td>\n",
              "    </tr>\n",
              "    <tr>\n",
              "      <th>10</th>\n",
              "      <td>10000</td>\n",
              "      <td>34.9658</td>\n",
              "      <td>29.731030</td>\n",
              "    </tr>\n",
              "    <tr>\n",
              "      <th>20</th>\n",
              "      <td>100</td>\n",
              "      <td>70.8300</td>\n",
              "      <td>63.161100</td>\n",
              "    </tr>\n",
              "    <tr>\n",
              "      <th>26</th>\n",
              "      <td>50000</td>\n",
              "      <td>91.0106</td>\n",
              "      <td>75.084888</td>\n",
              "    </tr>\n",
              "    <tr>\n",
              "      <th>29</th>\n",
              "      <td>500</td>\n",
              "      <td>102.1640</td>\n",
              "      <td>91.297104</td>\n",
              "    </tr>\n",
              "    <tr>\n",
              "      <th>13</th>\n",
              "      <td>5000</td>\n",
              "      <td>45.5278</td>\n",
              "      <td>37.968027</td>\n",
              "    </tr>\n",
              "    <tr>\n",
              "      <th>16</th>\n",
              "      <td>5000</td>\n",
              "      <td>55.9946</td>\n",
              "      <td>47.028571</td>\n",
              "    </tr>\n",
              "  </tbody>\n",
              "</table>\n",
              "</div>\n",
              "    <div class=\"colab-df-buttons\">\n",
              "\n",
              "  <div class=\"colab-df-container\">\n",
              "    <button class=\"colab-df-convert\" onclick=\"convertToInteractive('df-13ee113e-0404-4435-8ffa-12c802da3308')\"\n",
              "            title=\"Convert this dataframe to an interactive table.\"\n",
              "            style=\"display:none;\">\n",
              "\n",
              "  <svg xmlns=\"http://www.w3.org/2000/svg\" height=\"24px\" viewBox=\"0 -960 960 960\">\n",
              "    <path d=\"M120-120v-720h720v720H120Zm60-500h600v-160H180v160Zm220 220h160v-160H400v160Zm0 220h160v-160H400v160ZM180-400h160v-160H180v160Zm440 0h160v-160H620v160ZM180-180h160v-160H180v160Zm440 0h160v-160H620v160Z\"/>\n",
              "  </svg>\n",
              "    </button>\n",
              "\n",
              "  <style>\n",
              "    .colab-df-container {\n",
              "      display:flex;\n",
              "      gap: 12px;\n",
              "    }\n",
              "\n",
              "    .colab-df-convert {\n",
              "      background-color: #E8F0FE;\n",
              "      border: none;\n",
              "      border-radius: 50%;\n",
              "      cursor: pointer;\n",
              "      display: none;\n",
              "      fill: #1967D2;\n",
              "      height: 32px;\n",
              "      padding: 0 0 0 0;\n",
              "      width: 32px;\n",
              "    }\n",
              "\n",
              "    .colab-df-convert:hover {\n",
              "      background-color: #E2EBFA;\n",
              "      box-shadow: 0px 1px 2px rgba(60, 64, 67, 0.3), 0px 1px 3px 1px rgba(60, 64, 67, 0.15);\n",
              "      fill: #174EA6;\n",
              "    }\n",
              "\n",
              "    .colab-df-buttons div {\n",
              "      margin-bottom: 4px;\n",
              "    }\n",
              "\n",
              "    [theme=dark] .colab-df-convert {\n",
              "      background-color: #3B4455;\n",
              "      fill: #D2E3FC;\n",
              "    }\n",
              "\n",
              "    [theme=dark] .colab-df-convert:hover {\n",
              "      background-color: #434B5C;\n",
              "      box-shadow: 0px 1px 3px 1px rgba(0, 0, 0, 0.15);\n",
              "      filter: drop-shadow(0px 1px 2px rgba(0, 0, 0, 0.3));\n",
              "      fill: #FFFFFF;\n",
              "    }\n",
              "  </style>\n",
              "\n",
              "    <script>\n",
              "      const buttonEl =\n",
              "        document.querySelector('#df-13ee113e-0404-4435-8ffa-12c802da3308 button.colab-df-convert');\n",
              "      buttonEl.style.display =\n",
              "        google.colab.kernel.accessAllowed ? 'block' : 'none';\n",
              "\n",
              "      async function convertToInteractive(key) {\n",
              "        const element = document.querySelector('#df-13ee113e-0404-4435-8ffa-12c802da3308');\n",
              "        const dataTable =\n",
              "          await google.colab.kernel.invokeFunction('convertToInteractive',\n",
              "                                                    [key], {});\n",
              "        if (!dataTable) return;\n",
              "\n",
              "        const docLinkHtml = 'Like what you see? Visit the ' +\n",
              "          '<a target=\"_blank\" href=https://colab.research.google.com/notebooks/data_table.ipynb>data table notebook</a>'\n",
              "          + ' to learn more about interactive tables.';\n",
              "        element.innerHTML = '';\n",
              "        dataTable['output_type'] = 'display_data';\n",
              "        await google.colab.output.renderOutput(dataTable, element);\n",
              "        const docLink = document.createElement('div');\n",
              "        docLink.innerHTML = docLinkHtml;\n",
              "        element.appendChild(docLink);\n",
              "      }\n",
              "    </script>\n",
              "  </div>\n",
              "\n",
              "\n",
              "    <div id=\"df-379637f3-7891-427b-afd1-b5a9d109111d\">\n",
              "      <button class=\"colab-df-quickchart\" onclick=\"quickchart('df-379637f3-7891-427b-afd1-b5a9d109111d')\"\n",
              "                title=\"Suggest charts\"\n",
              "                style=\"display:none;\">\n",
              "\n",
              "<svg xmlns=\"http://www.w3.org/2000/svg\" height=\"24px\"viewBox=\"0 0 24 24\"\n",
              "     width=\"24px\">\n",
              "    <g>\n",
              "        <path d=\"M19 3H5c-1.1 0-2 .9-2 2v14c0 1.1.9 2 2 2h14c1.1 0 2-.9 2-2V5c0-1.1-.9-2-2-2zM9 17H7v-7h2v7zm4 0h-2V7h2v10zm4 0h-2v-4h2v4z\"/>\n",
              "    </g>\n",
              "</svg>\n",
              "      </button>\n",
              "\n",
              "<style>\n",
              "  .colab-df-quickchart {\n",
              "      --bg-color: #E8F0FE;\n",
              "      --fill-color: #1967D2;\n",
              "      --hover-bg-color: #E2EBFA;\n",
              "      --hover-fill-color: #174EA6;\n",
              "      --disabled-fill-color: #AAA;\n",
              "      --disabled-bg-color: #DDD;\n",
              "  }\n",
              "\n",
              "  [theme=dark] .colab-df-quickchart {\n",
              "      --bg-color: #3B4455;\n",
              "      --fill-color: #D2E3FC;\n",
              "      --hover-bg-color: #434B5C;\n",
              "      --hover-fill-color: #FFFFFF;\n",
              "      --disabled-bg-color: #3B4455;\n",
              "      --disabled-fill-color: #666;\n",
              "  }\n",
              "\n",
              "  .colab-df-quickchart {\n",
              "    background-color: var(--bg-color);\n",
              "    border: none;\n",
              "    border-radius: 50%;\n",
              "    cursor: pointer;\n",
              "    display: none;\n",
              "    fill: var(--fill-color);\n",
              "    height: 32px;\n",
              "    padding: 0;\n",
              "    width: 32px;\n",
              "  }\n",
              "\n",
              "  .colab-df-quickchart:hover {\n",
              "    background-color: var(--hover-bg-color);\n",
              "    box-shadow: 0 1px 2px rgba(60, 64, 67, 0.3), 0 1px 3px 1px rgba(60, 64, 67, 0.15);\n",
              "    fill: var(--button-hover-fill-color);\n",
              "  }\n",
              "\n",
              "  .colab-df-quickchart-complete:disabled,\n",
              "  .colab-df-quickchart-complete:disabled:hover {\n",
              "    background-color: var(--disabled-bg-color);\n",
              "    fill: var(--disabled-fill-color);\n",
              "    box-shadow: none;\n",
              "  }\n",
              "\n",
              "  .colab-df-spinner {\n",
              "    border: 2px solid var(--fill-color);\n",
              "    border-color: transparent;\n",
              "    border-bottom-color: var(--fill-color);\n",
              "    animation:\n",
              "      spin 1s steps(1) infinite;\n",
              "  }\n",
              "\n",
              "  @keyframes spin {\n",
              "    0% {\n",
              "      border-color: transparent;\n",
              "      border-bottom-color: var(--fill-color);\n",
              "      border-left-color: var(--fill-color);\n",
              "    }\n",
              "    20% {\n",
              "      border-color: transparent;\n",
              "      border-left-color: var(--fill-color);\n",
              "      border-top-color: var(--fill-color);\n",
              "    }\n",
              "    30% {\n",
              "      border-color: transparent;\n",
              "      border-left-color: var(--fill-color);\n",
              "      border-top-color: var(--fill-color);\n",
              "      border-right-color: var(--fill-color);\n",
              "    }\n",
              "    40% {\n",
              "      border-color: transparent;\n",
              "      border-right-color: var(--fill-color);\n",
              "      border-top-color: var(--fill-color);\n",
              "    }\n",
              "    60% {\n",
              "      border-color: transparent;\n",
              "      border-right-color: var(--fill-color);\n",
              "    }\n",
              "    80% {\n",
              "      border-color: transparent;\n",
              "      border-right-color: var(--fill-color);\n",
              "      border-bottom-color: var(--fill-color);\n",
              "    }\n",
              "    90% {\n",
              "      border-color: transparent;\n",
              "      border-bottom-color: var(--fill-color);\n",
              "    }\n",
              "  }\n",
              "</style>\n",
              "\n",
              "      <script>\n",
              "        async function quickchart(key) {\n",
              "          const quickchartButtonEl =\n",
              "            document.querySelector('#' + key + ' button');\n",
              "          quickchartButtonEl.disabled = true;  // To prevent multiple clicks.\n",
              "          quickchartButtonEl.classList.add('colab-df-spinner');\n",
              "          try {\n",
              "            const charts = await google.colab.kernel.invokeFunction(\n",
              "                'suggestCharts', [key], {});\n",
              "          } catch (error) {\n",
              "            console.error('Error during call to suggestCharts:', error);\n",
              "          }\n",
              "          quickchartButtonEl.classList.remove('colab-df-spinner');\n",
              "          quickchartButtonEl.classList.add('colab-df-quickchart-complete');\n",
              "        }\n",
              "        (() => {\n",
              "          let quickchartButtonEl =\n",
              "            document.querySelector('#df-379637f3-7891-427b-afd1-b5a9d109111d button');\n",
              "          quickchartButtonEl.style.display =\n",
              "            google.colab.kernel.accessAllowed ? 'block' : 'none';\n",
              "        })();\n",
              "      </script>\n",
              "    </div>\n",
              "\n",
              "    </div>\n",
              "  </div>\n"
            ],
            "application/vnd.google.colaboratory.intrinsic+json": {
              "type": "dataframe",
              "summary": "{\n  \"name\": \"display(analysis_df_restructured\",\n  \"rows\": 10,\n  \"fields\": [\n    {\n      \"column\": \"num_rolls\",\n      \"properties\": {\n        \"dtype\": \"number\",\n        \"std\": 11,\n        \"min\": 5,\n        \"max\": 41,\n        \"num_unique_values\": 10,\n        \"samples\": [\n          13,\n          9,\n          20\n        ],\n        \"semantic_type\": \"\",\n        \"description\": \"\"\n      }\n    },\n    {\n      \"column\": \"num_experiments\",\n      \"properties\": {\n        \"dtype\": \"number\",\n        \"std\": 14484,\n        \"min\": 100,\n        \"max\": 50000,\n        \"num_unique_values\": 5,\n        \"samples\": [\n          5000,\n          500,\n          100\n        ],\n        \"semantic_type\": \"\",\n        \"description\": \"\"\n      }\n    },\n    {\n      \"column\": \"mean\",\n      \"properties\": {\n        \"dtype\": \"number\",\n        \"std\": 40.67974801871593,\n        \"min\": 17.5388,\n        \"max\": 143.444,\n        \"num_unique_values\": 10,\n        \"samples\": [\n          45.5278,\n          31.566,\n          70.83\n        ],\n        \"semantic_type\": \"\",\n        \"description\": \"\"\n      }\n    },\n    {\n      \"column\": \"variance\",\n      \"properties\": {\n        \"dtype\": \"number\",\n        \"std\": 34.596588689331966,\n        \"min\": 14.51649456,\n        \"max\": 119.37566400000001,\n        \"num_unique_values\": 10,\n        \"samples\": [\n          37.96802716,\n          25.695644,\n          63.161100000000005\n        ],\n        \"semantic_type\": \"\",\n        \"description\": \"\"\n      }\n    }\n  ]\n}"
            }
          },
          "metadata": {}
        }
      ]
    },
    {
      "cell_type": "markdown",
      "metadata": {
        "id": "7dc0d89f"
      },
      "source": [
        "## Summary:\n",
        "\n",
        "### Data Analysis Key Findings\n",
        "\n",
        "*   The simulation successfully generated sums for rolling a die a variable number of times (2 to 50) across various numbers of experiments (100 to 100,000).\n",
        "*   Histograms were generated and saved for each combination of die rolls (greater than 1) and number of experiments, totaling 300 plots.\n",
        "*   The mean and variance of the simulated sums were calculated for each combination of die rolls (greater than 1) and experiments.\n",
        "*   The calculated means and variances were organized into a pandas DataFrame for structured storage and analysis.\n",
        "\n",
        "### Insights or Next Steps\n",
        "\n",
        "*   Analyze how the mean and variance of the sums change as the number of die rolls and the number of experiments increase.\n",
        "*   Compare the calculated means and variances to the theoretically expected values for the sum of multiple die rolls to observe the effects of the Law of Large Numbers.\n"
      ]
    },
    {
      "cell_type": "code",
      "metadata": {
        "id": "a3cd6284"
      },
      "source": [
        "analysis_df_restructured.to_csv('analysis_results.csv')"
      ],
      "execution_count": null,
      "outputs": []
    }
  ]
}